{
 "cells": [
  {
   "cell_type": "code",
   "execution_count": null,
   "metadata": {},
   "outputs": [],
   "source": [
    "import gymnasium as gym\n",
    "import numpy as np\n",
    "from stable_baselines3 import SAC, TD3, A2C\n",
    "import matplotlib.pyplot as plt\n",
    "import pickle\n",
    "import os\n",
    "import argparse\n",
    "import asyncio"
   ]
  },
  {
   "cell_type": "code",
   "execution_count": null,
   "metadata": {},
   "outputs": [],
   "source": [
    "models_dir = 'models'\n",
    "logs_dir = 'logs'\n",
    "if not os.path.exists(models_dir):\n",
    "    os.makedirs(models_dir)\n",
    "\n",
    "if not os.path.exists(logs_dir):\n",
    "    os.makedirs(logs_dir)"
   ]
  },
  {
   "cell_type": "code",
   "execution_count": null,
   "metadata": {},
   "outputs": [],
   "source": [
    "def train(env, sb3_algo, max_iters=4, model=None, curr_name=None):\n",
    "    if model is None:\n",
    "        match sb3_algo:\n",
    "            case 'SAC':\n",
    "                model = SAC('MlpPolicy', env, verbose=1, tensorboard_log=logs_dir)\n",
    "            case 'TD3':\n",
    "                model = TD3('MlpPolicy', env, verbose=1, tensorboard_log=logs_dir)\n",
    "            case 'A2C':\n",
    "                model = A2C('MlpPolicy', env, verbose=1, tensorboard_log=logs_dir)\n",
    "            case _:\n",
    "                print('Invalid algorithm')\n",
    "                return\n",
    "        name = f'{models_dir}/{sb3_algo}'\n",
    "    else:\n",
    "        if curr_name is None:\n",
    "            print('Please provide a name for the model')\n",
    "            return\n",
    "        name = curr_name\n",
    "        model.set_env(env)\n",
    "\n",
    "    TIMESTEPS = 25000\n",
    "    iters = 0\n",
    "    while True and iters < max_iters:\n",
    "        iters +=1\n",
    "        model.learn(total_timesteps=TIMESTEPS, reset_num_timesteps=False)\n",
    "        model.save(f'{name}_{TIMESTEPS*iters}')"
   ]
  },
  {
   "cell_type": "code",
   "execution_count": null,
   "metadata": {},
   "outputs": [],
   "source": [
    "gymenv = gym.make('Humanoid-v4', render_mode=None)\n",
    "# train(gymenv, 'SAC')\n",
    "# train(gymenv, 'TD3')\n",
    "# train(gymenv, 'A2C')"
   ]
  },
  {
   "cell_type": "code",
   "execution_count": null,
   "metadata": {},
   "outputs": [],
   "source": [
    "\n",
    "def test(env, sb3_algo, path_to_model):\n",
    "    match sb3_algo:\n",
    "        case 'SAC':\n",
    "            model = SAC.load(path_to_model)\n",
    "        case 'TD3':\n",
    "            model = TD3.load(path_to_model)\n",
    "        case 'A2C':\n",
    "            model = A2C.load(path_to_model)\n",
    "        case _:\n",
    "            print('Invalid algorithm')\n",
    "            return\n",
    "\n",
    "    obs = env.reset()[0]\n",
    "    done = False\n",
    "    extra_steps = 500\n",
    "    while True:\n",
    "        action, _states = model.predict(obs)\n",
    "        obs, _, done, _, _ = env.step(action)\n",
    "        \n",
    "        if done:\n",
    "            extra_steps -= 1\n",
    "\n",
    "        if extra_steps < 0:\n",
    "            break"
   ]
  },
  {
   "cell_type": "code",
   "execution_count": null,
   "metadata": {},
   "outputs": [],
   "source": [
    "gymenv_test = gym.make('Humanoid-v4', render_mode='human')"
   ]
  },
  {
   "cell_type": "markdown",
   "metadata": {},
   "source": [
    "na podstawie tenorboarda stwierdzamy ze sac jest najlepszy"
   ]
  },
  {
   "cell_type": "code",
   "execution_count": null,
   "metadata": {},
   "outputs": [],
   "source": [
    "test(gymenv_test, 'SAC', 'models/SAC_100000')"
   ]
  },
  {
   "cell_type": "markdown",
   "metadata": {},
   "source": [
    "Pouczymy model jescze przez kolejne 100000 epok, zaczynajac od poprzedniego stanu"
   ]
  },
  {
   "cell_type": "code",
   "execution_count": null,
   "metadata": {},
   "outputs": [],
   "source": [
    "model = SAC.load('models/SAC_100000')\n",
    "gymenv = gym.make('Humanoid-v4', render_mode=None)\n",
    "# train(gymenv, 'SAC', model=model, max_iters=4, curr_name='models/SAC2_continued')"
   ]
  },
  {
   "cell_type": "code",
   "execution_count": null,
   "metadata": {},
   "outputs": [],
   "source": [
    "\n",
    "test(gymenv_test, 'SAC', 'models/SAC2_continued_100000')"
   ]
  }
 ],
 "metadata": {
  "kernelspec": {
   "display_name": "IOWADC",
   "language": "python",
   "name": "python3"
  },
  "language_info": {
   "codemirror_mode": {
    "name": "ipython",
    "version": 3
   },
   "file_extension": ".py",
   "mimetype": "text/x-python",
   "name": "python",
   "nbconvert_exporter": "python",
   "pygments_lexer": "ipython3",
   "version": "3.12.2"
  }
 },
 "nbformat": 4,
 "nbformat_minor": 2
}
