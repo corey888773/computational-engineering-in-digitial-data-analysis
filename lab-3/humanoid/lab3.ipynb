{
 "cells": [
  {
   "cell_type": "code",
   "execution_count": 1,
   "metadata": {},
   "outputs": [],
   "source": [
    "import gymnasium as gym\n",
    "import numpy as np\n",
    "from stable_baselines3 import SAC, TD3, A2C\n",
    "import matplotlib.pyplot as plt\n",
    "import pickle\n",
    "import os\n",
    "import argparse\n",
    "import asyncio"
   ]
  },
  {
   "cell_type": "code",
   "execution_count": 2,
   "metadata": {},
   "outputs": [],
   "source": [
    "models_dir = 'models'\n",
    "logs_dir = 'logs'\n",
    "if not os.path.exists(models_dir):\n",
    "    os.makedirs(models_dir)\n",
    "\n",
    "if not os.path.exists(logs_dir):\n",
    "    os.makedirs(logs_dir)"
   ]
  },
  {
   "cell_type": "code",
   "execution_count": 3,
   "metadata": {},
   "outputs": [],
   "source": [
    "def train(env, sb3_algo, max_iters=20, model=None, curr_name=None, gamma=0.99):\n",
    "    if model is None:\n",
    "        match sb3_algo:\n",
    "            case 'SAC':\n",
    "                model = SAC('MlpPolicy', env, verbose=1, tensorboard_log=logs_dir, gamma=gamma)\n",
    "            case 'TD3':\n",
    "                model = TD3('MlpPolicy', env, verbose=1, tensorboard_log=logs_dir, gamma=gamma)\n",
    "            case 'A2C':\n",
    "                model = A2C('MlpPolicy', env, verbose=1, tensorboard_log=logs_dir, gamma=gamma)\n",
    "            case _:\n",
    "                print('Invalid algorithm')\n",
    "                return\n",
    "        name = f'{models_dir}/{sb3_algo}'\n",
    "    else:\n",
    "        if curr_name is None:\n",
    "            print('Please provide a name for the model')\n",
    "            return\n",
    "        name = curr_name\n",
    "        model.set_env(env)\n",
    "\n",
    "    TIMESTEPS = 25000\n",
    "    iters = 0\n",
    "    while True and iters < max_iters:\n",
    "        iters +=1\n",
    "        model.learn(total_timesteps=TIMESTEPS, reset_num_timesteps=False)\n",
    "        model.save(f'{name}_{TIMESTEPS*iters}')"
   ]
  },
  {
   "cell_type": "code",
   "execution_count": 4,
   "metadata": {},
   "outputs": [],
   "source": [
    "gymenv = gym.make('Humanoid-v4', render_mode=None)\n",
    "# train(gymenv, 'SAC')\n",
    "# train(gymenv, 'TD3')\n",
    "# train(gymenv, 'A2C')"
   ]
  },
  {
   "cell_type": "code",
   "execution_count": 5,
   "metadata": {},
   "outputs": [],
   "source": [
    "def test(env, sb3_algo, path_to_model):\n",
    "    match sb3_algo:\n",
    "        case 'SAC':\n",
    "            model = SAC.load(path_to_model)\n",
    "        case 'TD3':\n",
    "            model = TD3.load(path_to_model)\n",
    "        case 'A2C':\n",
    "            model = A2C.load(path_to_model)\n",
    "        case _:\n",
    "            print('Invalid algorithm')\n",
    "            return\n",
    "\n",
    "    obs = env.reset()[0]\n",
    "    done = False\n",
    "    extra_steps = 500\n",
    "    while True:\n",
    "        action, _states = model.predict(obs)\n",
    "        obs, _, done, _, _ = env.step(action)\n",
    "        \n",
    "        if done:\n",
    "            extra_steps -= 1\n",
    "\n",
    "        if extra_steps < 0:\n",
    "            break"
   ]
  },
  {
   "cell_type": "code",
   "execution_count": 6,
   "metadata": {},
   "outputs": [],
   "source": [
    "gymenv_test = gym.make('Humanoid-v4', render_mode='human')"
   ]
  },
  {
   "cell_type": "markdown",
   "metadata": {},
   "source": [
    "na podstawie tenorboarda stwierdzamy ze sac jest najlepszy"
   ]
  },
  {
   "cell_type": "code",
   "execution_count": 7,
   "metadata": {},
   "outputs": [],
   "source": [
    "test(gymenv_test, 'SAC', 'models/SAC3_continued_400000')"
   ]
  },
  {
   "cell_type": "markdown",
   "metadata": {},
   "source": [
    "Pouczymy model jescze przez kolejne 100000 epok, zaczynajac od poprzedniego stanu"
   ]
  },
  {
   "cell_type": "code",
   "execution_count": 8,
   "metadata": {},
   "outputs": [
    {
     "name": "stderr",
     "output_type": "stream",
     "text": [
      "/Users/szymon/miniconda3/envs/IOwADC/lib/python3.10/site-packages/stable_baselines3/common/save_util.py:167: UserWarning: Could not deserialize object lr_schedule. Consider using `custom_objects` argument to replace this object.\n",
      "Exception: code expected at most 16 arguments, got 18\n",
      "  warnings.warn(\n",
      "/Users/szymon/miniconda3/envs/IOwADC/lib/python3.10/site-packages/stable_baselines3/common/buffers.py:241: UserWarning: This system does not have apparently enough memory to store the complete replay buffer 6.09GB > 5.43GB\n",
      "  warnings.warn(\n"
     ]
    }
   ],
   "source": [
    "model = SAC.load('models/SAC2_continued_100000')\n",
    "gymenv = gym.make('Humanoid-v4', render_mode=None)\n",
    "# train(gymenv, 'SAC', model=model, curr_name='models/SAC3_continued')"
   ]
  },
  {
   "cell_type": "code",
   "execution_count": 9,
   "metadata": {},
   "outputs": [
    {
     "ename": "",
     "evalue": "",
     "output_type": "error",
     "traceback": [
      "\u001b[1;31mThe Kernel crashed while executing code in the current cell or a previous cell. \n",
      "\u001b[1;31mPlease review the code in the cell(s) to identify a possible cause of the failure. \n",
      "\u001b[1;31mClick <a href='https://aka.ms/vscodeJupyterKernelCrash'>here</a> for more info. \n",
      "\u001b[1;31mView Jupyter <a href='command:jupyter.viewOutput'>log</a> for further details."
     ]
    }
   ],
   "source": [
    "# test(gymenv_test, 'SAC', 'models/SAC2_continued_100000')"
   ]
  }
 ],
 "metadata": {
  "kernelspec": {
   "display_name": "IOWADC",
   "language": "python",
   "name": "python3"
  },
  "language_info": {
   "codemirror_mode": {
    "name": "ipython",
    "version": 3
   },
   "file_extension": ".py",
   "mimetype": "text/x-python",
   "name": "python",
   "nbconvert_exporter": "python",
   "pygments_lexer": "ipython3",
   "version": "3.10.13"
  }
 },
 "nbformat": 4,
 "nbformat_minor": 2
}
